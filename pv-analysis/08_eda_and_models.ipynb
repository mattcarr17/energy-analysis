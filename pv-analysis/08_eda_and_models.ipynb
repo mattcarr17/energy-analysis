{
 "cells": [
  {
   "cell_type": "markdown",
   "metadata": {},
   "source": [
    "# Explore & Model\n",
    "\n",
    "No specific plan for this notebook. Just want to explore and get a better feel for data overall. Practice some regression modeling so I can actually give some helpful advice to students"
   ]
  },
  {
   "cell_type": "code",
   "execution_count": 46,
   "metadata": {},
   "outputs": [],
   "source": [
    "import pandas as pd\n",
    "import numpy as np\n",
    "import matplotlib.pyplot as plt\n",
    "import seaborn as sns\n",
    "\n",
    "import statsmodels.api as sm\n",
    "from sklearn.metrics import mean_squared_error as mse"
   ]
  },
  {
   "cell_type": "code",
   "execution_count": 2,
   "metadata": {},
   "outputs": [
    {
     "data": {
      "text/html": [
       "<div>\n",
       "<style scoped>\n",
       "    .dataframe tbody tr th:only-of-type {\n",
       "        vertical-align: middle;\n",
       "    }\n",
       "\n",
       "    .dataframe tbody tr th {\n",
       "        vertical-align: top;\n",
       "    }\n",
       "\n",
       "    .dataframe thead th {\n",
       "        text-align: right;\n",
       "    }\n",
       "</style>\n",
       "<table border=\"1\" class=\"dataframe\">\n",
       "  <thead>\n",
       "    <tr style=\"text-align: right;\">\n",
       "      <th></th>\n",
       "      <th>zcta</th>\n",
       "      <th>state</th>\n",
       "      <th>lat</th>\n",
       "      <th>long</th>\n",
       "      <th>average_household_income</th>\n",
       "      <th>mean_household_income_lowest_quintile</th>\n",
       "      <th>mean_household_income_second_quintile</th>\n",
       "      <th>mean_household_income_third_quintile</th>\n",
       "      <th>mean_household_income_fourth_quintile</th>\n",
       "      <th>mean_household_income_highest_quintile</th>\n",
       "      <th>...</th>\n",
       "      <th>earth_temp</th>\n",
       "      <th>frost_days</th>\n",
       "      <th>earth_temp_amplitude</th>\n",
       "      <th>solar_azimuth_angle</th>\n",
       "      <th>num_systems</th>\n",
       "      <th>total_capacity</th>\n",
       "      <th>mean_system_size</th>\n",
       "      <th>median_system_size</th>\n",
       "      <th>num_incentives</th>\n",
       "      <th>num_policies</th>\n",
       "    </tr>\n",
       "  </thead>\n",
       "  <tbody>\n",
       "    <tr>\n",
       "      <th>0</th>\n",
       "      <td>85610</td>\n",
       "      <td>Arizona</td>\n",
       "      <td>31.744197</td>\n",
       "      <td>109.722324</td>\n",
       "      <td>53713.747228</td>\n",
       "      <td>15735.0</td>\n",
       "      <td>28976.0</td>\n",
       "      <td>41584.0</td>\n",
       "      <td>60403.0</td>\n",
       "      <td>121871.0</td>\n",
       "      <td>...</td>\n",
       "      <td>17.40</td>\n",
       "      <td>3.3</td>\n",
       "      <td>18.02</td>\n",
       "      <td>-100.64</td>\n",
       "      <td>13.0</td>\n",
       "      <td>70.150</td>\n",
       "      <td>5.396154</td>\n",
       "      <td>5.3800</td>\n",
       "      <td>17</td>\n",
       "      <td>12</td>\n",
       "    </tr>\n",
       "    <tr>\n",
       "      <th>1</th>\n",
       "      <td>85614</td>\n",
       "      <td>Arizona</td>\n",
       "      <td>31.814301</td>\n",
       "      <td>110.919400</td>\n",
       "      <td>67347.031441</td>\n",
       "      <td>15092.0</td>\n",
       "      <td>33942.0</td>\n",
       "      <td>52059.0</td>\n",
       "      <td>78902.0</td>\n",
       "      <td>156740.0</td>\n",
       "      <td>...</td>\n",
       "      <td>20.51</td>\n",
       "      <td>0.8</td>\n",
       "      <td>18.44</td>\n",
       "      <td>-101.18</td>\n",
       "      <td>1012.0</td>\n",
       "      <td>7015.507</td>\n",
       "      <td>6.932319</td>\n",
       "      <td>5.9850</td>\n",
       "      <td>17</td>\n",
       "      <td>12</td>\n",
       "    </tr>\n",
       "    <tr>\n",
       "      <th>2</th>\n",
       "      <td>85624</td>\n",
       "      <td>Arizona</td>\n",
       "      <td>31.504971</td>\n",
       "      <td>110.692999</td>\n",
       "      <td>56508.955224</td>\n",
       "      <td>12085.0</td>\n",
       "      <td>26596.0</td>\n",
       "      <td>40793.0</td>\n",
       "      <td>63481.0</td>\n",
       "      <td>139590.0</td>\n",
       "      <td>...</td>\n",
       "      <td>20.51</td>\n",
       "      <td>0.8</td>\n",
       "      <td>18.44</td>\n",
       "      <td>-101.18</td>\n",
       "      <td>24.0</td>\n",
       "      <td>150.860</td>\n",
       "      <td>6.285833</td>\n",
       "      <td>5.8650</td>\n",
       "      <td>17</td>\n",
       "      <td>12</td>\n",
       "    </tr>\n",
       "    <tr>\n",
       "      <th>3</th>\n",
       "      <td>85629</td>\n",
       "      <td>Arizona</td>\n",
       "      <td>31.917838</td>\n",
       "      <td>111.019035</td>\n",
       "      <td>91646.185302</td>\n",
       "      <td>24218.0</td>\n",
       "      <td>55100.0</td>\n",
       "      <td>82356.0</td>\n",
       "      <td>109225.0</td>\n",
       "      <td>187332.0</td>\n",
       "      <td>...</td>\n",
       "      <td>20.51</td>\n",
       "      <td>0.8</td>\n",
       "      <td>18.44</td>\n",
       "      <td>-101.18</td>\n",
       "      <td>1186.0</td>\n",
       "      <td>8934.678</td>\n",
       "      <td>7.533455</td>\n",
       "      <td>7.2975</td>\n",
       "      <td>17</td>\n",
       "      <td>12</td>\n",
       "    </tr>\n",
       "    <tr>\n",
       "      <th>4</th>\n",
       "      <td>85630</td>\n",
       "      <td>Arizona</td>\n",
       "      <td>31.886572</td>\n",
       "      <td>110.181046</td>\n",
       "      <td>57186.339381</td>\n",
       "      <td>6123.0</td>\n",
       "      <td>16639.0</td>\n",
       "      <td>37332.0</td>\n",
       "      <td>58660.0</td>\n",
       "      <td>167178.0</td>\n",
       "      <td>...</td>\n",
       "      <td>17.40</td>\n",
       "      <td>3.3</td>\n",
       "      <td>18.02</td>\n",
       "      <td>-100.64</td>\n",
       "      <td>37.0</td>\n",
       "      <td>258.010</td>\n",
       "      <td>6.973243</td>\n",
       "      <td>6.4800</td>\n",
       "      <td>17</td>\n",
       "      <td>12</td>\n",
       "    </tr>\n",
       "  </tbody>\n",
       "</table>\n",
       "<p>5 rows × 106 columns</p>\n",
       "</div>"
      ],
      "text/plain": [
       "    zcta    state        lat        long  average_household_income  \\\n",
       "0  85610  Arizona  31.744197  109.722324              53713.747228   \n",
       "1  85614  Arizona  31.814301  110.919400              67347.031441   \n",
       "2  85624  Arizona  31.504971  110.692999              56508.955224   \n",
       "3  85629  Arizona  31.917838  111.019035              91646.185302   \n",
       "4  85630  Arizona  31.886572  110.181046              57186.339381   \n",
       "\n",
       "   mean_household_income_lowest_quintile  \\\n",
       "0                                15735.0   \n",
       "1                                15092.0   \n",
       "2                                12085.0   \n",
       "3                                24218.0   \n",
       "4                                 6123.0   \n",
       "\n",
       "   mean_household_income_second_quintile  \\\n",
       "0                                28976.0   \n",
       "1                                33942.0   \n",
       "2                                26596.0   \n",
       "3                                55100.0   \n",
       "4                                16639.0   \n",
       "\n",
       "   mean_household_income_third_quintile  \\\n",
       "0                               41584.0   \n",
       "1                               52059.0   \n",
       "2                               40793.0   \n",
       "3                               82356.0   \n",
       "4                               37332.0   \n",
       "\n",
       "   mean_household_income_fourth_quintile  \\\n",
       "0                                60403.0   \n",
       "1                                78902.0   \n",
       "2                                63481.0   \n",
       "3                               109225.0   \n",
       "4                                58660.0   \n",
       "\n",
       "   mean_household_income_highest_quintile  ...  earth_temp  frost_days  \\\n",
       "0                                121871.0  ...       17.40         3.3   \n",
       "1                                156740.0  ...       20.51         0.8   \n",
       "2                                139590.0  ...       20.51         0.8   \n",
       "3                                187332.0  ...       20.51         0.8   \n",
       "4                                167178.0  ...       17.40         3.3   \n",
       "\n",
       "   earth_temp_amplitude  solar_azimuth_angle  num_systems  total_capacity  \\\n",
       "0                 18.02              -100.64         13.0          70.150   \n",
       "1                 18.44              -101.18       1012.0        7015.507   \n",
       "2                 18.44              -101.18         24.0         150.860   \n",
       "3                 18.44              -101.18       1186.0        8934.678   \n",
       "4                 18.02              -100.64         37.0         258.010   \n",
       "\n",
       "   mean_system_size  median_system_size  num_incentives  num_policies  \n",
       "0          5.396154              5.3800              17            12  \n",
       "1          6.932319              5.9850              17            12  \n",
       "2          6.285833              5.8650              17            12  \n",
       "3          7.533455              7.2975              17            12  \n",
       "4          6.973243              6.4800              17            12  \n",
       "\n",
       "[5 rows x 106 columns]"
      ]
     },
     "execution_count": 2,
     "metadata": {},
     "output_type": "execute_result"
    }
   ],
   "source": [
    "df = pd.read_csv('../data/data1.csv').drop(columns=['Unnamed: 0', 'Unnamed: 0.1'])\n",
    "df.head()"
   ]
  },
  {
   "cell_type": "markdown",
   "metadata": {},
   "source": [
    "`long` column should be negative"
   ]
  },
  {
   "cell_type": "code",
   "execution_count": 3,
   "metadata": {},
   "outputs": [],
   "source": [
    "df['long'] = df['long'] * -1"
   ]
  },
  {
   "cell_type": "markdown",
   "metadata": {},
   "source": [
    "Explore `total_capacity`"
   ]
  },
  {
   "cell_type": "code",
   "execution_count": 4,
   "metadata": {},
   "outputs": [
    {
     "data": {
      "text/plain": [
       "6345"
      ]
     },
     "execution_count": 4,
     "metadata": {},
     "output_type": "execute_result"
    }
   ],
   "source": [
    "df['total_capacity'].isna().sum()"
   ]
  },
  {
   "cell_type": "markdown",
   "metadata": {},
   "source": [
    "All null values in PV columns should be 0"
   ]
  },
  {
   "cell_type": "code",
   "execution_count": 9,
   "metadata": {},
   "outputs": [],
   "source": [
    "df.loc[:, ['num_systems', 'total_capacity', 'mean_system_size', 'median_system_size']] = df.loc[:, ['num_systems', 'total_capacity', 'mean_system_size', 'median_system_size']].fillna(0)"
   ]
  },
  {
   "cell_type": "code",
   "execution_count": 10,
   "metadata": {},
   "outputs": [
    {
     "data": {
      "text/html": [
       "<div>\n",
       "<style scoped>\n",
       "    .dataframe tbody tr th:only-of-type {\n",
       "        vertical-align: middle;\n",
       "    }\n",
       "\n",
       "    .dataframe tbody tr th {\n",
       "        vertical-align: top;\n",
       "    }\n",
       "\n",
       "    .dataframe thead th {\n",
       "        text-align: right;\n",
       "    }\n",
       "</style>\n",
       "<table border=\"1\" class=\"dataframe\">\n",
       "  <thead>\n",
       "    <tr style=\"text-align: right;\">\n",
       "      <th></th>\n",
       "      <th>zcta</th>\n",
       "      <th>lat</th>\n",
       "      <th>long</th>\n",
       "      <th>average_household_income</th>\n",
       "      <th>mean_household_income_lowest_quintile</th>\n",
       "      <th>mean_household_income_second_quintile</th>\n",
       "      <th>mean_household_income_third_quintile</th>\n",
       "      <th>mean_household_income_fourth_quintile</th>\n",
       "      <th>mean_household_income_highest_quintile</th>\n",
       "      <th>mean_household_income_top_5_percent</th>\n",
       "      <th>...</th>\n",
       "      <th>earth_temp</th>\n",
       "      <th>frost_days</th>\n",
       "      <th>earth_temp_amplitude</th>\n",
       "      <th>solar_azimuth_angle</th>\n",
       "      <th>num_systems</th>\n",
       "      <th>total_capacity</th>\n",
       "      <th>mean_system_size</th>\n",
       "      <th>median_system_size</th>\n",
       "      <th>num_incentives</th>\n",
       "      <th>num_policies</th>\n",
       "    </tr>\n",
       "  </thead>\n",
       "  <tbody>\n",
       "    <tr>\n",
       "      <th>count</th>\n",
       "      <td>15740.000000</td>\n",
       "      <td>15740.000000</td>\n",
       "      <td>15740.000000</td>\n",
       "      <td>1.541700e+04</td>\n",
       "      <td>1.291300e+04</td>\n",
       "      <td>1.291300e+04</td>\n",
       "      <td>1.291300e+04</td>\n",
       "      <td>1.291300e+04</td>\n",
       "      <td>1.291300e+04</td>\n",
       "      <td>1.291300e+04</td>\n",
       "      <td>...</td>\n",
       "      <td>15740.000000</td>\n",
       "      <td>15740.000000</td>\n",
       "      <td>15740.000000</td>\n",
       "      <td>15740.000000</td>\n",
       "      <td>15740.000000</td>\n",
       "      <td>15740.000000</td>\n",
       "      <td>15740.000000</td>\n",
       "      <td>15740.000000</td>\n",
       "      <td>15740.000000</td>\n",
       "      <td>15740.000000</td>\n",
       "    </tr>\n",
       "    <tr>\n",
       "      <th>mean</th>\n",
       "      <td>49843.504511</td>\n",
       "      <td>38.723931</td>\n",
       "      <td>-91.208422</td>\n",
       "      <td>-inf</td>\n",
       "      <td>-1.603912e+07</td>\n",
       "      <td>-1.596299e+07</td>\n",
       "      <td>-1.593778e+07</td>\n",
       "      <td>-1.590414e+07</td>\n",
       "      <td>-1.580258e+07</td>\n",
       "      <td>-1.567021e+07</td>\n",
       "      <td>...</td>\n",
       "      <td>12.772213</td>\n",
       "      <td>7.253527</td>\n",
       "      <td>13.603645</td>\n",
       "      <td>-90.979829</td>\n",
       "      <td>103.379797</td>\n",
       "      <td>779.597284</td>\n",
       "      <td>5.689463</td>\n",
       "      <td>4.840616</td>\n",
       "      <td>26.896315</td>\n",
       "      <td>11.285769</td>\n",
       "    </tr>\n",
       "    <tr>\n",
       "      <th>std</th>\n",
       "      <td>33337.344009</td>\n",
       "      <td>5.136316</td>\n",
       "      <td>16.977850</td>\n",
       "      <td>NaN</td>\n",
       "      <td>1.022138e+08</td>\n",
       "      <td>1.020573e+08</td>\n",
       "      <td>1.020612e+08</td>\n",
       "      <td>1.020665e+08</td>\n",
       "      <td>1.020825e+08</td>\n",
       "      <td>1.021034e+08</td>\n",
       "      <td>...</td>\n",
       "      <td>5.255347</td>\n",
       "      <td>4.648079</td>\n",
       "      <td>3.212927</td>\n",
       "      <td>10.820162</td>\n",
       "      <td>392.944132</td>\n",
       "      <td>4451.072964</td>\n",
       "      <td>38.703188</td>\n",
       "      <td>24.748652</td>\n",
       "      <td>20.779303</td>\n",
       "      <td>7.712991</td>\n",
       "    </tr>\n",
       "    <tr>\n",
       "      <th>min</th>\n",
       "      <td>1001.000000</td>\n",
       "      <td>24.561353</td>\n",
       "      <td>-124.635404</td>\n",
       "      <td>-inf</td>\n",
       "      <td>-6.666667e+08</td>\n",
       "      <td>-6.666667e+08</td>\n",
       "      <td>-6.666667e+08</td>\n",
       "      <td>-6.666667e+08</td>\n",
       "      <td>-6.666667e+08</td>\n",
       "      <td>-6.666667e+08</td>\n",
       "      <td>...</td>\n",
       "      <td>0.570000</td>\n",
       "      <td>0.000000</td>\n",
       "      <td>0.840000</td>\n",
       "      <td>-116.730000</td>\n",
       "      <td>0.000000</td>\n",
       "      <td>0.000000</td>\n",
       "      <td>0.000000</td>\n",
       "      <td>0.000000</td>\n",
       "      <td>6.000000</td>\n",
       "      <td>3.000000</td>\n",
       "    </tr>\n",
       "    <tr>\n",
       "      <th>25%</th>\n",
       "      <td>15446.750000</td>\n",
       "      <td>34.465649</td>\n",
       "      <td>-102.402212</td>\n",
       "      <td>6.068030e+04</td>\n",
       "      <td>1.183800e+04</td>\n",
       "      <td>2.974400e+04</td>\n",
       "      <td>4.897500e+04</td>\n",
       "      <td>7.478300e+04</td>\n",
       "      <td>1.410940e+05</td>\n",
       "      <td>2.114520e+05</td>\n",
       "      <td>...</td>\n",
       "      <td>9.100000</td>\n",
       "      <td>2.280000</td>\n",
       "      <td>13.005000</td>\n",
       "      <td>-96.920000</td>\n",
       "      <td>0.000000</td>\n",
       "      <td>0.000000</td>\n",
       "      <td>0.000000</td>\n",
       "      <td>0.000000</td>\n",
       "      <td>11.000000</td>\n",
       "      <td>7.000000</td>\n",
       "    </tr>\n",
       "    <tr>\n",
       "      <th>50%</th>\n",
       "      <td>53082.000000</td>\n",
       "      <td>40.389070</td>\n",
       "      <td>-87.643148</td>\n",
       "      <td>7.449468e+04</td>\n",
       "      <td>1.586900e+04</td>\n",
       "      <td>3.812900e+04</td>\n",
       "      <td>6.091200e+04</td>\n",
       "      <td>9.034600e+04</td>\n",
       "      <td>1.744320e+05</td>\n",
       "      <td>2.814380e+05</td>\n",
       "      <td>...</td>\n",
       "      <td>11.190000</td>\n",
       "      <td>8.780000</td>\n",
       "      <td>14.190000</td>\n",
       "      <td>-88.960000</td>\n",
       "      <td>2.000000</td>\n",
       "      <td>12.975600</td>\n",
       "      <td>5.530000</td>\n",
       "      <td>5.100000</td>\n",
       "      <td>21.000000</td>\n",
       "      <td>8.000000</td>\n",
       "    </tr>\n",
       "    <tr>\n",
       "      <th>75%</th>\n",
       "      <td>79605.250000</td>\n",
       "      <td>42.059628</td>\n",
       "      <td>-76.280704</td>\n",
       "      <td>9.639473e+04</td>\n",
       "      <td>2.120700e+04</td>\n",
       "      <td>5.013600e+04</td>\n",
       "      <td>7.900000e+04</td>\n",
       "      <td>1.166150e+05</td>\n",
       "      <td>2.301940e+05</td>\n",
       "      <td>3.935250e+05</td>\n",
       "      <td>...</td>\n",
       "      <td>17.060000</td>\n",
       "      <td>10.920000</td>\n",
       "      <td>14.980000</td>\n",
       "      <td>-81.630000</td>\n",
       "      <td>23.000000</td>\n",
       "      <td>189.452477</td>\n",
       "      <td>8.190000</td>\n",
       "      <td>7.670625</td>\n",
       "      <td>34.000000</td>\n",
       "      <td>16.000000</td>\n",
       "    </tr>\n",
       "    <tr>\n",
       "      <th>max</th>\n",
       "      <td>99403.000000</td>\n",
       "      <td>48.991930</td>\n",
       "      <td>-69.937327</td>\n",
       "      <td>5.117132e+05</td>\n",
       "      <td>7.283600e+04</td>\n",
       "      <td>1.755610e+05</td>\n",
       "      <td>3.219390e+05</td>\n",
       "      <td>6.788080e+05</td>\n",
       "      <td>1.352190e+06</td>\n",
       "      <td>2.233721e+06</td>\n",
       "      <td>...</td>\n",
       "      <td>27.400000</td>\n",
       "      <td>18.240000</td>\n",
       "      <td>19.630000</td>\n",
       "      <td>-77.150000</td>\n",
       "      <td>6706.000000</td>\n",
       "      <td>434636.515000</td>\n",
       "      <td>2917.590000</td>\n",
       "      <td>2917.590000</td>\n",
       "      <td>85.000000</td>\n",
       "      <td>32.000000</td>\n",
       "    </tr>\n",
       "  </tbody>\n",
       "</table>\n",
       "<p>8 rows × 105 columns</p>\n",
       "</div>"
      ],
      "text/plain": [
       "               zcta           lat          long  average_household_income  \\\n",
       "count  15740.000000  15740.000000  15740.000000              1.541700e+04   \n",
       "mean   49843.504511     38.723931    -91.208422                      -inf   \n",
       "std    33337.344009      5.136316     16.977850                       NaN   \n",
       "min     1001.000000     24.561353   -124.635404                      -inf   \n",
       "25%    15446.750000     34.465649   -102.402212              6.068030e+04   \n",
       "50%    53082.000000     40.389070    -87.643148              7.449468e+04   \n",
       "75%    79605.250000     42.059628    -76.280704              9.639473e+04   \n",
       "max    99403.000000     48.991930    -69.937327              5.117132e+05   \n",
       "\n",
       "       mean_household_income_lowest_quintile  \\\n",
       "count                           1.291300e+04   \n",
       "mean                           -1.603912e+07   \n",
       "std                             1.022138e+08   \n",
       "min                            -6.666667e+08   \n",
       "25%                             1.183800e+04   \n",
       "50%                             1.586900e+04   \n",
       "75%                             2.120700e+04   \n",
       "max                             7.283600e+04   \n",
       "\n",
       "       mean_household_income_second_quintile  \\\n",
       "count                           1.291300e+04   \n",
       "mean                           -1.596299e+07   \n",
       "std                             1.020573e+08   \n",
       "min                            -6.666667e+08   \n",
       "25%                             2.974400e+04   \n",
       "50%                             3.812900e+04   \n",
       "75%                             5.013600e+04   \n",
       "max                             1.755610e+05   \n",
       "\n",
       "       mean_household_income_third_quintile  \\\n",
       "count                          1.291300e+04   \n",
       "mean                          -1.593778e+07   \n",
       "std                            1.020612e+08   \n",
       "min                           -6.666667e+08   \n",
       "25%                            4.897500e+04   \n",
       "50%                            6.091200e+04   \n",
       "75%                            7.900000e+04   \n",
       "max                            3.219390e+05   \n",
       "\n",
       "       mean_household_income_fourth_quintile  \\\n",
       "count                           1.291300e+04   \n",
       "mean                           -1.590414e+07   \n",
       "std                             1.020665e+08   \n",
       "min                            -6.666667e+08   \n",
       "25%                             7.478300e+04   \n",
       "50%                             9.034600e+04   \n",
       "75%                             1.166150e+05   \n",
       "max                             6.788080e+05   \n",
       "\n",
       "       mean_household_income_highest_quintile  \\\n",
       "count                            1.291300e+04   \n",
       "mean                            -1.580258e+07   \n",
       "std                              1.020825e+08   \n",
       "min                             -6.666667e+08   \n",
       "25%                              1.410940e+05   \n",
       "50%                              1.744320e+05   \n",
       "75%                              2.301940e+05   \n",
       "max                              1.352190e+06   \n",
       "\n",
       "       mean_household_income_top_5_percent  ...    earth_temp    frost_days  \\\n",
       "count                         1.291300e+04  ...  15740.000000  15740.000000   \n",
       "mean                         -1.567021e+07  ...     12.772213      7.253527   \n",
       "std                           1.021034e+08  ...      5.255347      4.648079   \n",
       "min                          -6.666667e+08  ...      0.570000      0.000000   \n",
       "25%                           2.114520e+05  ...      9.100000      2.280000   \n",
       "50%                           2.814380e+05  ...     11.190000      8.780000   \n",
       "75%                           3.935250e+05  ...     17.060000     10.920000   \n",
       "max                           2.233721e+06  ...     27.400000     18.240000   \n",
       "\n",
       "       earth_temp_amplitude  solar_azimuth_angle   num_systems  \\\n",
       "count          15740.000000         15740.000000  15740.000000   \n",
       "mean              13.603645           -90.979829    103.379797   \n",
       "std                3.212927            10.820162    392.944132   \n",
       "min                0.840000          -116.730000      0.000000   \n",
       "25%               13.005000           -96.920000      0.000000   \n",
       "50%               14.190000           -88.960000      2.000000   \n",
       "75%               14.980000           -81.630000     23.000000   \n",
       "max               19.630000           -77.150000   6706.000000   \n",
       "\n",
       "       total_capacity  mean_system_size  median_system_size  num_incentives  \\\n",
       "count    15740.000000      15740.000000        15740.000000    15740.000000   \n",
       "mean       779.597284          5.689463            4.840616       26.896315   \n",
       "std       4451.072964         38.703188           24.748652       20.779303   \n",
       "min          0.000000          0.000000            0.000000        6.000000   \n",
       "25%          0.000000          0.000000            0.000000       11.000000   \n",
       "50%         12.975600          5.530000            5.100000       21.000000   \n",
       "75%        189.452477          8.190000            7.670625       34.000000   \n",
       "max     434636.515000       2917.590000         2917.590000       85.000000   \n",
       "\n",
       "       num_policies  \n",
       "count  15740.000000  \n",
       "mean      11.285769  \n",
       "std        7.712991  \n",
       "min        3.000000  \n",
       "25%        7.000000  \n",
       "50%        8.000000  \n",
       "75%       16.000000  \n",
       "max       32.000000  \n",
       "\n",
       "[8 rows x 105 columns]"
      ]
     },
     "execution_count": 10,
     "metadata": {},
     "output_type": "execute_result"
    }
   ],
   "source": [
    "df.describe()"
   ]
  },
  {
   "cell_type": "code",
   "execution_count": 12,
   "metadata": {},
   "outputs": [
    {
     "data": {
      "text/plain": [
       "0"
      ]
     },
     "execution_count": 12,
     "metadata": {},
     "output_type": "execute_result"
    }
   ],
   "source": [
    "df['total_capacity'].isna().sum()"
   ]
  },
  {
   "cell_type": "code",
   "execution_count": 13,
   "metadata": {},
   "outputs": [
    {
     "data": {
      "text/html": [
       "<div>\n",
       "<style scoped>\n",
       "    .dataframe tbody tr th:only-of-type {\n",
       "        vertical-align: middle;\n",
       "    }\n",
       "\n",
       "    .dataframe tbody tr th {\n",
       "        vertical-align: top;\n",
       "    }\n",
       "\n",
       "    .dataframe thead th {\n",
       "        text-align: right;\n",
       "    }\n",
       "</style>\n",
       "<table border=\"1\" class=\"dataframe\">\n",
       "  <thead>\n",
       "    <tr style=\"text-align: right;\">\n",
       "      <th></th>\n",
       "      <th>household_count</th>\n",
       "      <th>housing_unit_count</th>\n",
       "      <th>housing_unit_occupied_count</th>\n",
       "      <th>total_population</th>\n",
       "    </tr>\n",
       "  </thead>\n",
       "  <tbody>\n",
       "    <tr>\n",
       "      <th>0</th>\n",
       "      <td>451</td>\n",
       "      <td>691</td>\n",
       "      <td>451</td>\n",
       "      <td>1071</td>\n",
       "    </tr>\n",
       "    <tr>\n",
       "      <th>1</th>\n",
       "      <td>13104</td>\n",
       "      <td>16986</td>\n",
       "      <td>13104</td>\n",
       "      <td>23777</td>\n",
       "    </tr>\n",
       "    <tr>\n",
       "      <th>2</th>\n",
       "      <td>536</td>\n",
       "      <td>860</td>\n",
       "      <td>536</td>\n",
       "      <td>1289</td>\n",
       "    </tr>\n",
       "    <tr>\n",
       "      <th>3</th>\n",
       "      <td>8559</td>\n",
       "      <td>9260</td>\n",
       "      <td>8559</td>\n",
       "      <td>25770</td>\n",
       "    </tr>\n",
       "    <tr>\n",
       "      <th>4</th>\n",
       "      <td>937</td>\n",
       "      <td>1226</td>\n",
       "      <td>937</td>\n",
       "      <td>1757</td>\n",
       "    </tr>\n",
       "    <tr>\n",
       "      <th>...</th>\n",
       "      <td>...</td>\n",
       "      <td>...</td>\n",
       "      <td>...</td>\n",
       "      <td>...</td>\n",
       "    </tr>\n",
       "    <tr>\n",
       "      <th>15735</th>\n",
       "      <td>165</td>\n",
       "      <td>315</td>\n",
       "      <td>165</td>\n",
       "      <td>380</td>\n",
       "    </tr>\n",
       "    <tr>\n",
       "      <th>15736</th>\n",
       "      <td>778</td>\n",
       "      <td>1683</td>\n",
       "      <td>778</td>\n",
       "      <td>1555</td>\n",
       "    </tr>\n",
       "    <tr>\n",
       "      <th>15737</th>\n",
       "      <td>536</td>\n",
       "      <td>1539</td>\n",
       "      <td>536</td>\n",
       "      <td>1233</td>\n",
       "    </tr>\n",
       "    <tr>\n",
       "      <th>15738</th>\n",
       "      <td>195</td>\n",
       "      <td>386</td>\n",
       "      <td>195</td>\n",
       "      <td>394</td>\n",
       "    </tr>\n",
       "    <tr>\n",
       "      <th>15739</th>\n",
       "      <td>229</td>\n",
       "      <td>415</td>\n",
       "      <td>229</td>\n",
       "      <td>448</td>\n",
       "    </tr>\n",
       "  </tbody>\n",
       "</table>\n",
       "<p>15740 rows × 4 columns</p>\n",
       "</div>"
      ],
      "text/plain": [
       "       household_count  housing_unit_count  housing_unit_occupied_count  \\\n",
       "0                  451                 691                          451   \n",
       "1                13104               16986                        13104   \n",
       "2                  536                 860                          536   \n",
       "3                 8559                9260                         8559   \n",
       "4                  937                1226                          937   \n",
       "...                ...                 ...                          ...   \n",
       "15735              165                 315                          165   \n",
       "15736              778                1683                          778   \n",
       "15737              536                1539                          536   \n",
       "15738              195                 386                          195   \n",
       "15739              229                 415                          229   \n",
       "\n",
       "       total_population  \n",
       "0                  1071  \n",
       "1                 23777  \n",
       "2                  1289  \n",
       "3                 25770  \n",
       "4                  1757  \n",
       "...                 ...  \n",
       "15735               380  \n",
       "15736              1555  \n",
       "15737              1233  \n",
       "15738               394  \n",
       "15739               448  \n",
       "\n",
       "[15740 rows x 4 columns]"
      ]
     },
     "execution_count": 13,
     "metadata": {},
     "output_type": "execute_result"
    }
   ],
   "source": [
    "df[['household_count', 'housing_unit_count', 'housing_unit_occupied_count', 'total_population']]"
   ]
  },
  {
   "cell_type": "markdown",
   "metadata": {},
   "source": [
    "Regression target is going to be `solar_density` which is the total capacity (kW) per 1,000 households in the ZCTA (`total_capacity` / (`household_count` / 1000)). Ensure `household_count` values are valid"
   ]
  },
  {
   "cell_type": "code",
   "execution_count": 15,
   "metadata": {},
   "outputs": [
    {
     "data": {
      "text/plain": [
       "0"
      ]
     },
     "execution_count": 15,
     "metadata": {},
     "output_type": "execute_result"
    }
   ],
   "source": [
    "df['household_count'].isna().sum()"
   ]
  },
  {
   "cell_type": "code",
   "execution_count": 16,
   "metadata": {},
   "outputs": [
    {
     "data": {
      "text/plain": [
       "count    15740.000000\n",
       "mean      4586.789263\n",
       "std       5955.259954\n",
       "min          0.000000\n",
       "25%        363.750000\n",
       "50%       1665.500000\n",
       "75%       7258.250000\n",
       "max      41355.000000\n",
       "Name: household_count, dtype: float64"
      ]
     },
     "execution_count": 16,
     "metadata": {},
     "output_type": "execute_result"
    }
   ],
   "source": [
    "df['household_count'].describe()"
   ]
  },
  {
   "cell_type": "markdown",
   "metadata": {},
   "source": [
    "Check ZCTAs where `household_count` is 0"
   ]
  },
  {
   "cell_type": "code",
   "execution_count": 20,
   "metadata": {},
   "outputs": [
    {
     "data": {
      "text/html": [
       "<div>\n",
       "<style scoped>\n",
       "    .dataframe tbody tr th:only-of-type {\n",
       "        vertical-align: middle;\n",
       "    }\n",
       "\n",
       "    .dataframe tbody tr th {\n",
       "        vertical-align: top;\n",
       "    }\n",
       "\n",
       "    .dataframe thead th {\n",
       "        text-align: right;\n",
       "    }\n",
       "</style>\n",
       "<table border=\"1\" class=\"dataframe\">\n",
       "  <thead>\n",
       "    <tr style=\"text-align: right;\">\n",
       "      <th></th>\n",
       "      <th>zcta</th>\n",
       "      <th>state</th>\n",
       "      <th>lat</th>\n",
       "      <th>long</th>\n",
       "      <th>average_household_income</th>\n",
       "      <th>mean_household_income_lowest_quintile</th>\n",
       "      <th>mean_household_income_second_quintile</th>\n",
       "      <th>mean_household_income_third_quintile</th>\n",
       "      <th>mean_household_income_fourth_quintile</th>\n",
       "      <th>mean_household_income_highest_quintile</th>\n",
       "      <th>...</th>\n",
       "      <th>earth_temp</th>\n",
       "      <th>frost_days</th>\n",
       "      <th>earth_temp_amplitude</th>\n",
       "      <th>solar_azimuth_angle</th>\n",
       "      <th>num_systems</th>\n",
       "      <th>total_capacity</th>\n",
       "      <th>mean_system_size</th>\n",
       "      <th>median_system_size</th>\n",
       "      <th>num_incentives</th>\n",
       "      <th>num_policies</th>\n",
       "    </tr>\n",
       "  </thead>\n",
       "  <tbody>\n",
       "    <tr>\n",
       "      <th>14</th>\n",
       "      <td>85341</td>\n",
       "      <td>Arizona</td>\n",
       "      <td>31.879191</td>\n",
       "      <td>-112.798973</td>\n",
       "      <td>-inf</td>\n",
       "      <td>-666666666.0</td>\n",
       "      <td>-666666666.0</td>\n",
       "      <td>-666666666.0</td>\n",
       "      <td>-666666666.0</td>\n",
       "      <td>-666666666.0</td>\n",
       "      <td>...</td>\n",
       "      <td>23.49</td>\n",
       "      <td>0.17</td>\n",
       "      <td>18.25</td>\n",
       "      <td>-102.28</td>\n",
       "      <td>0.0</td>\n",
       "      <td>0.000</td>\n",
       "      <td>0.000</td>\n",
       "      <td>0.00</td>\n",
       "      <td>17</td>\n",
       "      <td>12</td>\n",
       "    </tr>\n",
       "    <tr>\n",
       "      <th>30</th>\n",
       "      <td>85707</td>\n",
       "      <td>Arizona</td>\n",
       "      <td>32.179209</td>\n",
       "      <td>-110.886905</td>\n",
       "      <td>-inf</td>\n",
       "      <td>-666666666.0</td>\n",
       "      <td>-666666666.0</td>\n",
       "      <td>-666666666.0</td>\n",
       "      <td>-666666666.0</td>\n",
       "      <td>-666666666.0</td>\n",
       "      <td>...</td>\n",
       "      <td>20.51</td>\n",
       "      <td>0.80</td>\n",
       "      <td>18.44</td>\n",
       "      <td>-101.18</td>\n",
       "      <td>7.0</td>\n",
       "      <td>16445.555</td>\n",
       "      <td>2349.365</td>\n",
       "      <td>4.95</td>\n",
       "      <td>17</td>\n",
       "      <td>12</td>\n",
       "    </tr>\n",
       "    <tr>\n",
       "      <th>31</th>\n",
       "      <td>85723</td>\n",
       "      <td>Arizona</td>\n",
       "      <td>32.180232</td>\n",
       "      <td>-110.965154</td>\n",
       "      <td>-inf</td>\n",
       "      <td>-666666666.0</td>\n",
       "      <td>-666666666.0</td>\n",
       "      <td>-666666666.0</td>\n",
       "      <td>-666666666.0</td>\n",
       "      <td>-666666666.0</td>\n",
       "      <td>...</td>\n",
       "      <td>20.51</td>\n",
       "      <td>0.80</td>\n",
       "      <td>18.44</td>\n",
       "      <td>-101.18</td>\n",
       "      <td>1.0</td>\n",
       "      <td>2917.590</td>\n",
       "      <td>2917.590</td>\n",
       "      <td>2917.59</td>\n",
       "      <td>17</td>\n",
       "      <td>12</td>\n",
       "    </tr>\n",
       "    <tr>\n",
       "      <th>32</th>\n",
       "      <td>85724</td>\n",
       "      <td>Arizona</td>\n",
       "      <td>32.240828</td>\n",
       "      <td>-110.945636</td>\n",
       "      <td>-inf</td>\n",
       "      <td>-666666666.0</td>\n",
       "      <td>-666666666.0</td>\n",
       "      <td>-666666666.0</td>\n",
       "      <td>-666666666.0</td>\n",
       "      <td>-666666666.0</td>\n",
       "      <td>...</td>\n",
       "      <td>20.51</td>\n",
       "      <td>0.80</td>\n",
       "      <td>18.44</td>\n",
       "      <td>-101.18</td>\n",
       "      <td>0.0</td>\n",
       "      <td>0.000</td>\n",
       "      <td>0.000</td>\n",
       "      <td>0.00</td>\n",
       "      <td>17</td>\n",
       "      <td>12</td>\n",
       "    </tr>\n",
       "    <tr>\n",
       "      <th>33</th>\n",
       "      <td>85726</td>\n",
       "      <td>Arizona</td>\n",
       "      <td>32.204728</td>\n",
       "      <td>-110.945598</td>\n",
       "      <td>-inf</td>\n",
       "      <td>-666666666.0</td>\n",
       "      <td>-666666666.0</td>\n",
       "      <td>-666666666.0</td>\n",
       "      <td>-666666666.0</td>\n",
       "      <td>-666666666.0</td>\n",
       "      <td>...</td>\n",
       "      <td>20.51</td>\n",
       "      <td>0.80</td>\n",
       "      <td>18.44</td>\n",
       "      <td>-101.18</td>\n",
       "      <td>0.0</td>\n",
       "      <td>0.000</td>\n",
       "      <td>0.000</td>\n",
       "      <td>0.00</td>\n",
       "      <td>17</td>\n",
       "      <td>12</td>\n",
       "    </tr>\n",
       "    <tr>\n",
       "      <th>...</th>\n",
       "      <td>...</td>\n",
       "      <td>...</td>\n",
       "      <td>...</td>\n",
       "      <td>...</td>\n",
       "      <td>...</td>\n",
       "      <td>...</td>\n",
       "      <td>...</td>\n",
       "      <td>...</td>\n",
       "      <td>...</td>\n",
       "      <td>...</td>\n",
       "      <td>...</td>\n",
       "      <td>...</td>\n",
       "      <td>...</td>\n",
       "      <td>...</td>\n",
       "      <td>...</td>\n",
       "      <td>...</td>\n",
       "      <td>...</td>\n",
       "      <td>...</td>\n",
       "      <td>...</td>\n",
       "      <td>...</td>\n",
       "      <td>...</td>\n",
       "    </tr>\n",
       "    <tr>\n",
       "      <th>15456</th>\n",
       "      <td>54561</td>\n",
       "      <td>Wisconsin</td>\n",
       "      <td>46.097549</td>\n",
       "      <td>-89.513390</td>\n",
       "      <td>-inf</td>\n",
       "      <td>-666666666.0</td>\n",
       "      <td>-666666666.0</td>\n",
       "      <td>-666666666.0</td>\n",
       "      <td>-666666666.0</td>\n",
       "      <td>-666666666.0</td>\n",
       "      <td>...</td>\n",
       "      <td>4.32</td>\n",
       "      <td>14.49</td>\n",
       "      <td>14.30</td>\n",
       "      <td>-90.28</td>\n",
       "      <td>0.0</td>\n",
       "      <td>0.000</td>\n",
       "      <td>0.000</td>\n",
       "      <td>0.00</td>\n",
       "      <td>18</td>\n",
       "      <td>6</td>\n",
       "    </tr>\n",
       "    <tr>\n",
       "      <th>15538</th>\n",
       "      <td>54985</td>\n",
       "      <td>Wisconsin</td>\n",
       "      <td>44.075066</td>\n",
       "      <td>-88.518469</td>\n",
       "      <td>-inf</td>\n",
       "      <td>-666666666.0</td>\n",
       "      <td>-666666666.0</td>\n",
       "      <td>-666666666.0</td>\n",
       "      <td>-666666666.0</td>\n",
       "      <td>-666666666.0</td>\n",
       "      <td>...</td>\n",
       "      <td>7.34</td>\n",
       "      <td>12.57</td>\n",
       "      <td>14.48</td>\n",
       "      <td>-89.62</td>\n",
       "      <td>0.0</td>\n",
       "      <td>0.000</td>\n",
       "      <td>0.000</td>\n",
       "      <td>0.00</td>\n",
       "      <td>18</td>\n",
       "      <td>5</td>\n",
       "    </tr>\n",
       "    <tr>\n",
       "      <th>15563</th>\n",
       "      <td>54010</td>\n",
       "      <td>Wisconsin</td>\n",
       "      <td>44.734316</td>\n",
       "      <td>-92.465629</td>\n",
       "      <td>-inf</td>\n",
       "      <td>-666666666.0</td>\n",
       "      <td>-666666666.0</td>\n",
       "      <td>-666666666.0</td>\n",
       "      <td>-666666666.0</td>\n",
       "      <td>-666666666.0</td>\n",
       "      <td>...</td>\n",
       "      <td>5.81</td>\n",
       "      <td>13.40</td>\n",
       "      <td>15.26</td>\n",
       "      <td>-91.64</td>\n",
       "      <td>0.0</td>\n",
       "      <td>0.000</td>\n",
       "      <td>0.000</td>\n",
       "      <td>0.00</td>\n",
       "      <td>18</td>\n",
       "      <td>5</td>\n",
       "    </tr>\n",
       "    <tr>\n",
       "      <th>15564</th>\n",
       "      <td>54307</td>\n",
       "      <td>Wisconsin</td>\n",
       "      <td>44.470363</td>\n",
       "      <td>-88.036686</td>\n",
       "      <td>-inf</td>\n",
       "      <td>-666666666.0</td>\n",
       "      <td>-666666666.0</td>\n",
       "      <td>-666666666.0</td>\n",
       "      <td>-666666666.0</td>\n",
       "      <td>-666666666.0</td>\n",
       "      <td>...</td>\n",
       "      <td>7.71</td>\n",
       "      <td>12.04</td>\n",
       "      <td>12.76</td>\n",
       "      <td>-88.96</td>\n",
       "      <td>0.0</td>\n",
       "      <td>0.000</td>\n",
       "      <td>0.000</td>\n",
       "      <td>0.00</td>\n",
       "      <td>18</td>\n",
       "      <td>5</td>\n",
       "    </tr>\n",
       "    <tr>\n",
       "      <th>15583</th>\n",
       "      <td>54946</td>\n",
       "      <td>Wisconsin</td>\n",
       "      <td>44.336605</td>\n",
       "      <td>-89.144400</td>\n",
       "      <td>-inf</td>\n",
       "      <td>-666666666.0</td>\n",
       "      <td>-666666666.0</td>\n",
       "      <td>-666666666.0</td>\n",
       "      <td>-666666666.0</td>\n",
       "      <td>-666666666.0</td>\n",
       "      <td>...</td>\n",
       "      <td>7.34</td>\n",
       "      <td>12.57</td>\n",
       "      <td>14.48</td>\n",
       "      <td>-89.62</td>\n",
       "      <td>0.0</td>\n",
       "      <td>0.000</td>\n",
       "      <td>0.000</td>\n",
       "      <td>0.00</td>\n",
       "      <td>18</td>\n",
       "      <td>5</td>\n",
       "    </tr>\n",
       "  </tbody>\n",
       "</table>\n",
       "<p>307 rows × 106 columns</p>\n",
       "</div>"
      ],
      "text/plain": [
       "        zcta      state        lat        long  average_household_income  \\\n",
       "14     85341    Arizona  31.879191 -112.798973                      -inf   \n",
       "30     85707    Arizona  32.179209 -110.886905                      -inf   \n",
       "31     85723    Arizona  32.180232 -110.965154                      -inf   \n",
       "32     85724    Arizona  32.240828 -110.945636                      -inf   \n",
       "33     85726    Arizona  32.204728 -110.945598                      -inf   \n",
       "...      ...        ...        ...         ...                       ...   \n",
       "15456  54561  Wisconsin  46.097549  -89.513390                      -inf   \n",
       "15538  54985  Wisconsin  44.075066  -88.518469                      -inf   \n",
       "15563  54010  Wisconsin  44.734316  -92.465629                      -inf   \n",
       "15564  54307  Wisconsin  44.470363  -88.036686                      -inf   \n",
       "15583  54946  Wisconsin  44.336605  -89.144400                      -inf   \n",
       "\n",
       "       mean_household_income_lowest_quintile  \\\n",
       "14                              -666666666.0   \n",
       "30                              -666666666.0   \n",
       "31                              -666666666.0   \n",
       "32                              -666666666.0   \n",
       "33                              -666666666.0   \n",
       "...                                      ...   \n",
       "15456                           -666666666.0   \n",
       "15538                           -666666666.0   \n",
       "15563                           -666666666.0   \n",
       "15564                           -666666666.0   \n",
       "15583                           -666666666.0   \n",
       "\n",
       "       mean_household_income_second_quintile  \\\n",
       "14                              -666666666.0   \n",
       "30                              -666666666.0   \n",
       "31                              -666666666.0   \n",
       "32                              -666666666.0   \n",
       "33                              -666666666.0   \n",
       "...                                      ...   \n",
       "15456                           -666666666.0   \n",
       "15538                           -666666666.0   \n",
       "15563                           -666666666.0   \n",
       "15564                           -666666666.0   \n",
       "15583                           -666666666.0   \n",
       "\n",
       "       mean_household_income_third_quintile  \\\n",
       "14                             -666666666.0   \n",
       "30                             -666666666.0   \n",
       "31                             -666666666.0   \n",
       "32                             -666666666.0   \n",
       "33                             -666666666.0   \n",
       "...                                     ...   \n",
       "15456                          -666666666.0   \n",
       "15538                          -666666666.0   \n",
       "15563                          -666666666.0   \n",
       "15564                          -666666666.0   \n",
       "15583                          -666666666.0   \n",
       "\n",
       "       mean_household_income_fourth_quintile  \\\n",
       "14                              -666666666.0   \n",
       "30                              -666666666.0   \n",
       "31                              -666666666.0   \n",
       "32                              -666666666.0   \n",
       "33                              -666666666.0   \n",
       "...                                      ...   \n",
       "15456                           -666666666.0   \n",
       "15538                           -666666666.0   \n",
       "15563                           -666666666.0   \n",
       "15564                           -666666666.0   \n",
       "15583                           -666666666.0   \n",
       "\n",
       "       mean_household_income_highest_quintile  ...  earth_temp  frost_days  \\\n",
       "14                               -666666666.0  ...       23.49        0.17   \n",
       "30                               -666666666.0  ...       20.51        0.80   \n",
       "31                               -666666666.0  ...       20.51        0.80   \n",
       "32                               -666666666.0  ...       20.51        0.80   \n",
       "33                               -666666666.0  ...       20.51        0.80   \n",
       "...                                       ...  ...         ...         ...   \n",
       "15456                            -666666666.0  ...        4.32       14.49   \n",
       "15538                            -666666666.0  ...        7.34       12.57   \n",
       "15563                            -666666666.0  ...        5.81       13.40   \n",
       "15564                            -666666666.0  ...        7.71       12.04   \n",
       "15583                            -666666666.0  ...        7.34       12.57   \n",
       "\n",
       "       earth_temp_amplitude  solar_azimuth_angle  num_systems  total_capacity  \\\n",
       "14                    18.25              -102.28          0.0           0.000   \n",
       "30                    18.44              -101.18          7.0       16445.555   \n",
       "31                    18.44              -101.18          1.0        2917.590   \n",
       "32                    18.44              -101.18          0.0           0.000   \n",
       "33                    18.44              -101.18          0.0           0.000   \n",
       "...                     ...                  ...          ...             ...   \n",
       "15456                 14.30               -90.28          0.0           0.000   \n",
       "15538                 14.48               -89.62          0.0           0.000   \n",
       "15563                 15.26               -91.64          0.0           0.000   \n",
       "15564                 12.76               -88.96          0.0           0.000   \n",
       "15583                 14.48               -89.62          0.0           0.000   \n",
       "\n",
       "       mean_system_size  median_system_size  num_incentives  num_policies  \n",
       "14                0.000                0.00              17            12  \n",
       "30             2349.365                4.95              17            12  \n",
       "31             2917.590             2917.59              17            12  \n",
       "32                0.000                0.00              17            12  \n",
       "33                0.000                0.00              17            12  \n",
       "...                 ...                 ...             ...           ...  \n",
       "15456             0.000                0.00              18             6  \n",
       "15538             0.000                0.00              18             5  \n",
       "15563             0.000                0.00              18             5  \n",
       "15564             0.000                0.00              18             5  \n",
       "15583             0.000                0.00              18             5  \n",
       "\n",
       "[307 rows x 106 columns]"
      ]
     },
     "execution_count": 20,
     "metadata": {},
     "output_type": "execute_result"
    }
   ],
   "source": [
    "df.loc[df['household_count'] == 0]"
   ]
  },
  {
   "cell_type": "markdown",
   "metadata": {},
   "source": [
    "Looks like a lot of census data is missing for these ZCTAs. Explore `state` before dropping. Be sure these rows are spread across country (minimize bias)"
   ]
  },
  {
   "cell_type": "code",
   "execution_count": 26,
   "metadata": {},
   "outputs": [
    {
     "data": {
      "text/plain": [
       "New York                50\n",
       "California              46\n",
       "Texas                   40\n",
       "District of Columbia    30\n",
       "Pennsylvania            24\n",
       "Florida                 15\n",
       "Washington              15\n",
       "Arizona                 14\n",
       "Ohio                    13\n",
       "New Mexico              12\n",
       "Wisconsin                9\n",
       "New Jersey               8\n",
       "Massachusetts            7\n",
       "Oregon                   6\n",
       "Connecticut              5\n",
       "Delaware                 4\n",
       "Illinois                 4\n",
       "Vermont                  3\n",
       "Utah                     2\n",
       "Name: state, dtype: int64"
      ]
     },
     "execution_count": 26,
     "metadata": {},
     "output_type": "execute_result"
    }
   ],
   "source": [
    "df.loc[df['household_count'] == 0, 'state'].value_counts()"
   ]
  },
  {
   "cell_type": "markdown",
   "metadata": {},
   "source": [
    "I feel comfortable dropping for now. In future I will explore these more"
   ]
  },
  {
   "cell_type": "code",
   "execution_count": 27,
   "metadata": {},
   "outputs": [],
   "source": [
    "df = df.loc[df['household_count'] > 0]"
   ]
  },
  {
   "cell_type": "markdown",
   "metadata": {},
   "source": [
    "Calculate `solar_density`"
   ]
  },
  {
   "cell_type": "code",
   "execution_count": 29,
   "metadata": {},
   "outputs": [
    {
     "name": "stderr",
     "output_type": "stream",
     "text": [
      "<ipython-input-29-b558883b97ed>:1: SettingWithCopyWarning: \n",
      "A value is trying to be set on a copy of a slice from a DataFrame.\n",
      "Try using .loc[row_indexer,col_indexer] = value instead\n",
      "\n",
      "See the caveats in the documentation: https://pandas.pydata.org/pandas-docs/stable/user_guide/indexing.html#returning-a-view-versus-a-copy\n",
      "  df['solar_density'] = df['total_capacity'] / (df['household_count'] / 1000)\n"
     ]
    },
    {
     "data": {
      "text/plain": [
       "count     15433.000000\n",
       "mean        167.977242\n",
       "std        1277.650462\n",
       "min           0.000000\n",
       "25%           0.000000\n",
       "50%           8.222376\n",
       "75%         117.480874\n",
       "max      116368.544846\n",
       "Name: solar_density, dtype: float64"
      ]
     },
     "execution_count": 29,
     "metadata": {},
     "output_type": "execute_result"
    }
   ],
   "source": [
    "df['solar_density'] = df['total_capacity'] / (df['household_count'] / 1000)\n",
    "df['solar_density'].describe()"
   ]
  },
  {
   "cell_type": "code",
   "execution_count": 30,
   "metadata": {},
   "outputs": [
    {
     "data": {
      "image/png": "[encoded data removed]",
      "text/plain": [
       "<Figure size 720x432 with 1 Axes>"
      ]
     },
     "metadata": {
      "needs_background": "light"
     },
     "output_type": "display_data"
    }
   ],
   "source": [
    "df['solar_density'].hist(figsize=(10,6));"
   ]
  },
  {
   "cell_type": "code",
   "execution_count": 31,
   "metadata": {},
   "outputs": [
    {
     "data": {
      "image/png": "[encoded data removed]",
      "text/plain": [
       "<Figure size 720x432 with 1 Axes>"
      ]
     },
     "metadata": {
      "needs_background": "light"
     },
     "output_type": "display_data"
    }
   ],
   "source": [
    "df['solar_density'].plot.box(figsize=(10,6));"
   ]
  },
  {
   "cell_type": "markdown",
   "metadata": {},
   "source": [
    "Few extreme outliers. Look at any value above 10,000"
   ]
  },
  {
   "cell_type": "code",
   "execution_count": 35,
   "metadata": {},
   "outputs": [
    {
     "data": {
      "text/html": [
       "<div>\n",
       "<style scoped>\n",
       "    .dataframe tbody tr th:only-of-type {\n",
       "        vertical-align: middle;\n",
       "    }\n",
       "\n",
       "    .dataframe tbody tr th {\n",
       "        vertical-align: top;\n",
       "    }\n",
       "\n",
       "    .dataframe thead th {\n",
       "        text-align: right;\n",
       "    }\n",
       "</style>\n",
       "<table border=\"1\" class=\"dataframe\">\n",
       "  <thead>\n",
       "    <tr style=\"text-align: right;\">\n",
       "      <th></th>\n",
       "      <th>state</th>\n",
       "      <th>num_systems</th>\n",
       "      <th>total_capacity</th>\n",
       "      <th>household_count</th>\n",
       "      <th>solar_density</th>\n",
       "    </tr>\n",
       "  </thead>\n",
       "  <tbody>\n",
       "    <tr>\n",
       "      <th>143</th>\n",
       "      <td>Arizona</td>\n",
       "      <td>2.0</td>\n",
       "      <td>588.1200</td>\n",
       "      <td>9</td>\n",
       "      <td>65346.666667</td>\n",
       "    </tr>\n",
       "    <tr>\n",
       "      <th>1907</th>\n",
       "      <td>California</td>\n",
       "      <td>27.0</td>\n",
       "      <td>223.3041</td>\n",
       "      <td>16</td>\n",
       "      <td>13956.506250</td>\n",
       "    </tr>\n",
       "    <tr>\n",
       "      <th>4952</th>\n",
       "      <td>Massachusetts</td>\n",
       "      <td>65.0</td>\n",
       "      <td>466.8370</td>\n",
       "      <td>8</td>\n",
       "      <td>58354.625000</td>\n",
       "    </tr>\n",
       "    <tr>\n",
       "      <th>5827</th>\n",
       "      <td>New Jersey</td>\n",
       "      <td>19.0</td>\n",
       "      <td>208.1300</td>\n",
       "      <td>17</td>\n",
       "      <td>12242.941176</td>\n",
       "    </tr>\n",
       "    <tr>\n",
       "      <th>7029</th>\n",
       "      <td>New York</td>\n",
       "      <td>35.0</td>\n",
       "      <td>309.4500</td>\n",
       "      <td>10</td>\n",
       "      <td>30945.000000</td>\n",
       "    </tr>\n",
       "    <tr>\n",
       "      <th>13956</th>\n",
       "      <td>Utah</td>\n",
       "      <td>154.0</td>\n",
       "      <td>434636.5150</td>\n",
       "      <td>3735</td>\n",
       "      <td>116368.544846</td>\n",
       "    </tr>\n",
       "    <tr>\n",
       "      <th>14004</th>\n",
       "      <td>Utah</td>\n",
       "      <td>33.0</td>\n",
       "      <td>10317.9860</td>\n",
       "      <td>756</td>\n",
       "      <td>13648.129630</td>\n",
       "    </tr>\n",
       "    <tr>\n",
       "      <th>14035</th>\n",
       "      <td>Utah</td>\n",
       "      <td>14.0</td>\n",
       "      <td>5514.0350</td>\n",
       "      <td>353</td>\n",
       "      <td>15620.495751</td>\n",
       "    </tr>\n",
       "  </tbody>\n",
       "</table>\n",
       "</div>"
      ],
      "text/plain": [
       "               state  num_systems  total_capacity  household_count  \\\n",
       "143          Arizona          2.0        588.1200                9   \n",
       "1907      California         27.0        223.3041               16   \n",
       "4952   Massachusetts         65.0        466.8370                8   \n",
       "5827      New Jersey         19.0        208.1300               17   \n",
       "7029        New York         35.0        309.4500               10   \n",
       "13956           Utah        154.0     434636.5150             3735   \n",
       "14004           Utah         33.0      10317.9860              756   \n",
       "14035           Utah         14.0       5514.0350              353   \n",
       "\n",
       "       solar_density  \n",
       "143     65346.666667  \n",
       "1907    13956.506250  \n",
       "4952    58354.625000  \n",
       "5827    12242.941176  \n",
       "7029    30945.000000  \n",
       "13956  116368.544846  \n",
       "14004   13648.129630  \n",
       "14035   15620.495751  "
      ]
     },
     "execution_count": 35,
     "metadata": {},
     "output_type": "execute_result"
    }
   ],
   "source": [
    "df.loc[df['solar_density'] >= 10000, ['state', 'num_systems', 'total_capacity', 'household_count', 'solar_density']]"
   ]
  },
  {
   "cell_type": "code",
   "execution_count": 41,
   "metadata": {},
   "outputs": [
    {
     "data": {
      "text/plain": [
       "749.49157122182"
      ]
     },
     "execution_count": 41,
     "metadata": {},
     "output_type": "execute_result"
    }
   ],
   "source": [
    "df['solar_density'].quantile(.95)"
   ]
  },
  {
   "cell_type": "markdown",
   "metadata": {},
   "source": [
    "95% of ZCTAs have `solar_density` less than 750."
   ]
  },
  {
   "cell_type": "code",
   "execution_count": 44,
   "metadata": {},
   "outputs": [
    {
     "data": {
      "text/plain": [
       "<AxesSubplot:>"
      ]
     },
     "execution_count": 44,
     "metadata": {},
     "output_type": "execute_result"
    },
    {
     "data": {
      "image/png": "[encoded data removed]",
      "text/plain": [
       "<Figure size 720x432 with 1 Axes>"
      ]
     },
     "metadata": {
      "needs_background": "light"
     },
     "output_type": "display_data"
    }
   ],
   "source": [
    "df.loc[df['solar_density'] < 750, 'solar_density'].hist(figsize=(10,6))"
   ]
  },
  {
   "cell_type": "markdown",
   "metadata": {},
   "source": [
    "Over 6,000 ZCTAs have no solar. Separate and only look at those that do."
   ]
  },
  {
   "cell_type": "code",
   "execution_count": 48,
   "metadata": {},
   "outputs": [
    {
     "data": {
      "text/plain": [
       "(9350, 107)"
      ]
     },
     "execution_count": 48,
     "metadata": {},
     "output_type": "execute_result"
    }
   ],
   "source": [
    "solar = df.loc[df['solar_density'] > 0]\n",
    "solar.shape"
   ]
  },
  {
   "cell_type": "code",
   "execution_count": 49,
   "metadata": {},
   "outputs": [
    {
     "data": {
      "text/plain": [
       "count      9350.000000\n",
       "mean        277.261259\n",
       "std        1632.242329\n",
       "min           0.094475\n",
       "25%          15.297666\n",
       "50%          72.594995\n",
       "75%         268.507274\n",
       "max      116368.544846\n",
       "Name: solar_density, dtype: float64"
      ]
     },
     "execution_count": 49,
     "metadata": {},
     "output_type": "execute_result"
    }
   ],
   "source": [
    "solar['solar_density'].describe()"
   ]
  },
  {
   "cell_type": "code",
   "execution_count": 51,
   "metadata": {},
   "outputs": [
    {
     "data": {
      "text/plain": [
       "1454.0948117595156"
      ]
     },
     "execution_count": 51,
     "metadata": {},
     "output_type": "execute_result"
    }
   ],
   "source": [
    "solar['solar_density'].quantile(.975)"
   ]
  },
  {
   "cell_type": "markdown",
   "metadata": {},
   "source": [
    "Look at everything below 1500"
   ]
  },
  {
   "cell_type": "code",
   "execution_count": 63,
   "metadata": {},
   "outputs": [
    {
     "data": {
      "image/png": "[encoded data removed]",
      "text/plain": [
       "<Figure size 720x432 with 1 Axes>"
      ]
     },
     "metadata": {
      "needs_background": "light"
     },
     "output_type": "display_data"
    }
   ],
   "source": [
    "solar.loc[solar['solar_density'] < 1500, 'solar_density'].hist(figsize=(10,6));"
   ]
  },
  {
   "cell_type": "markdown",
   "metadata": {},
   "source": [
    "## Modeling\n",
    "\n",
    "Begin by exploring correlations with `solar_density` and visualizing relationship with strongest variables. Then using statsmodels for linear regression"
   ]
  },
  {
   "cell_type": "code",
   "execution_count": 66,
   "metadata": {},
   "outputs": [
    {
     "data": {
      "text/plain": [
       "num_systems                              0.128078\n",
       "housing_unit_median_value                0.121585\n",
       "median_household_income                  0.121503\n",
       "solar_radiation                          0.106286\n",
       "heating_fuel_solar_rate                  0.104690\n",
       "cloud_amount                             0.103406\n",
       "relative_humidity                        0.100899\n",
       "heating_fuel_solar                       0.098231\n",
       "num_policies                             0.088994\n",
       "num_incentives                           0.086913\n",
       "frost_days                               0.081845\n",
       "heating_degree_days                      0.078119\n",
       "air_temp                                 0.071561\n",
       "housing_unit_median_gross_rent           0.070183\n",
       "earth_temp                               0.068124\n",
       "long                                     0.066082\n",
       "lat                                      0.065814\n",
       "solar_azimuth_angle                      0.059683\n",
       "mean_household_income_second_quintile    0.058984\n",
       "education_bachelor_rate                  0.058393\n",
       "Name: solar_density, dtype: float64"
      ]
     },
     "execution_count": 66,
     "metadata": {},
     "output_type": "execute_result"
    }
   ],
   "source": [
    "solar.corr()['solar_density'].abs().sort_values(ascending=False)[5:25]"
   ]
  },
  {
   "cell_type": "markdown",
   "metadata": {},
   "source": [
    "Correlations without outliers"
   ]
  },
  {
   "cell_type": "code",
   "execution_count": 87,
   "metadata": {},
   "outputs": [
    {
     "data": {
      "text/plain": [
       "solar_density                             1.000000\n",
       "total_capacity                            0.624318\n",
       "num_systems                               0.571302\n",
       "heating_fuel_solar                        0.430581\n",
       "cloud_amount                              0.411518\n",
       "num_incentives                            0.399907\n",
       "solar_radiation                           0.392422\n",
       "num_policies                              0.375758\n",
       "frost_days                                0.325148\n",
       "relative_humidity                         0.321210\n",
       "heating_degree_days                       0.318818\n",
       "air_temp                                  0.281414\n",
       "earth_temp                                0.271441\n",
       "lat                                       0.260694\n",
       "heating_fuel_solar_rate                   0.248471\n",
       "long                                      0.206736\n",
       "mean_household_income_second_quintile     0.183284\n",
       "mean_household_income_third_quintile      0.182126\n",
       "solar_azimuth_angle                       0.178432\n",
       "education_high_school_graduate_rate       0.171200\n",
       "mean_household_income_fourth_quintile     0.171058\n",
       "cooling_degree_days                       0.160906\n",
       "average_household_income                  0.146005\n",
       "mean_household_income_highest_quintile    0.139791\n",
       "transportation_home_rate                  0.125161\n",
       "Name: solar_density, dtype: float64"
      ]
     },
     "execution_count": 87,
     "metadata": {},
     "output_type": "execute_result"
    }
   ],
   "source": [
    "solar.loc[solar['solar_density'] < 1500].corr()['solar_density'].abs().sort_values(ascending=False)[:25]"
   ]
  },
  {
   "cell_type": "markdown",
   "metadata": {},
   "source": [
    "The outliers have a significant effect. "
   ]
  },
  {
   "cell_type": "markdown",
   "metadata": {},
   "source": []
  },
  {
   "cell_type": "code",
   "execution_count": 76,
   "metadata": {},
   "outputs": [
    {
     "data": {
      "text/plain": [
       "221"
      ]
     },
     "execution_count": 76,
     "metadata": {},
     "output_type": "execute_result"
    }
   ],
   "source": [
    "len(solar.loc[solar['solar_density'] >= 1500])"
   ]
  },
  {
   "cell_type": "markdown",
   "metadata": {},
   "source": [
    "221 values greater than or equal to 1500 (~2.5% of data). Remove these for modeling right now"
   ]
  },
  {
   "cell_type": "code",
   "execution_count": 74,
   "metadata": {},
   "outputs": [],
   "source": [
    "outliers = solar.loc[solar['solar_density'] >= 1500]"
   ]
  },
  {
   "cell_type": "code",
   "execution_count": 77,
   "metadata": {},
   "outputs": [],
   "source": [
    "solar = solar.loc[solar['solar_density'] < 1500]"
   ]
  },
  {
   "cell_type": "code",
   "execution_count": 78,
   "metadata": {},
   "outputs": [
    {
     "data": {
      "text/plain": [
       "(9129, 107)"
      ]
     },
     "execution_count": 78,
     "metadata": {},
     "output_type": "execute_result"
    }
   ],
   "source": [
    "solar.shape"
   ]
  },
  {
   "cell_type": "markdown",
   "metadata": {},
   "source": [
    "Still have 9129 rows to work with"
   ]
  },
  {
   "cell_type": "code",
   "execution_count": 81,
   "metadata": {},
   "outputs": [],
   "source": [
    "def plot_map(data, hue_var):\n",
    "\n",
    "    fig, ax = plt.subplots(nrows=2, figsize=(10,12))\n",
    "    sns.scatterplot(data=data, x='long', y='lat', hue='solar_density', ax=ax[0])\n",
    "    ax[0].set_title('Solar Density by ZCTA')\n",
    "\n",
    "    sns.scatterplot(data=data, x='long', y='lat', hue=hue_var, ax=ax[1])\n",
    "    ax[1].set_title('ZCTAs by {}'.format(hue_var));\n",
    "\n",
    "    plt.show()"
   ]
  },
  {
   "cell_type": "code",
   "execution_count": 82,
   "metadata": {},
   "outputs": [
    {
     "data": {
      "image/png": "[encoded data removed]",
      "text/plain": [
       "<Figure size 720x864 with 2 Axes>"
      ]
     },
     "metadata": {
      "needs_background": "light"
     },
     "output_type": "display_data"
    }
   ],
   "source": [
    "plot_map(data=solar, hue_var='solar_radiation')"
   ]
  },
  {
   "cell_type": "markdown",
   "metadata": {},
   "source": [
    "### Baseline Model\n",
    "\n",
    "Features:\n",
    "- `solar_radiation`\n",
    "- `num_incentives`\n",
    "- `num_policies`\n",
    "- `relative_humidity`\n",
    "- `cloud_amount`"
   ]
  },
  {
   "cell_type": "code",
   "execution_count": 169,
   "metadata": {},
   "outputs": [],
   "source": [
    "model1_feats = ['solar_radiation', 'relative_humidity', 'cloud_amount', 'num_incentives', 'num_policies', 'median_household_income']"
   ]
  },
  {
   "cell_type": "code",
   "execution_count": 170,
   "metadata": {},
   "outputs": [],
   "source": [
    "X = solar[model1_feats]\n",
    "y = solar['solar_density']"
   ]
  },
  {
   "cell_type": "code",
   "execution_count": 171,
   "metadata": {},
   "outputs": [
    {
     "data": {
      "text/plain": [
       "0"
      ]
     },
     "execution_count": 171,
     "metadata": {},
     "output_type": "execute_result"
    }
   ],
   "source": [
    "y.isna().sum()"
   ]
  },
  {
   "cell_type": "code",
   "execution_count": 172,
   "metadata": {},
   "outputs": [
    {
     "data": {
      "text/plain": [
       "solar_radiation            0\n",
       "relative_humidity          0\n",
       "cloud_amount               0\n",
       "num_incentives             0\n",
       "num_policies               0\n",
       "median_household_income    0\n",
       "dtype: int64"
      ]
     },
     "execution_count": 172,
     "metadata": {},
     "output_type": "execute_result"
    }
   ],
   "source": [
    "X.isna().sum()"
   ]
  },
  {
   "cell_type": "code",
   "execution_count": 179,
   "metadata": {},
   "outputs": [
    {
     "data": {
      "text/html": [
       "<table class=\"simpletable\">\n",
       "<caption>OLS Regression Results</caption>\n",
       "<tr>\n",
       "  <th>Dep. Variable:</th>      <td>solar_density</td>  <th>  R-squared:         </th> <td>   0.257</td> \n",
       "</tr>\n",
       "<tr>\n",
       "  <th>Model:</th>                   <td>OLS</td>       <th>  Adj. R-squared:    </th> <td>   0.256</td> \n",
       "</tr>\n",
       "<tr>\n",
       "  <th>Method:</th>             <td>Least Squares</td>  <th>  F-statistic:       </th> <td>   514.6</td> \n",
       "</tr>\n",
       "<tr>\n",
       "  <th>Date:</th>             <td>Thu, 15 Sep 2022</td> <th>  Prob (F-statistic):</th>  <td>  0.00</td>  \n",
       "</tr>\n",
       "<tr>\n",
       "  <th>Time:</th>                 <td>13:48:14</td>     <th>  Log-Likelihood:    </th> <td> -30624.</td> \n",
       "</tr>\n",
       "<tr>\n",
       "  <th>No. Observations:</th>      <td>  8951</td>      <th>  AIC:               </th> <td>6.126e+04</td>\n",
       "</tr>\n",
       "<tr>\n",
       "  <th>Df Residuals:</th>          <td>  8944</td>      <th>  BIC:               </th> <td>6.131e+04</td>\n",
       "</tr>\n",
       "<tr>\n",
       "  <th>Df Model:</th>              <td>     6</td>      <th>                     </th>     <td> </td>    \n",
       "</tr>\n",
       "<tr>\n",
       "  <th>Covariance Type:</th>      <td>nonrobust</td>    <th>                     </th>     <td> </td>    \n",
       "</tr>\n",
       "</table>\n",
       "<table class=\"simpletable\">\n",
       "<tr>\n",
       "             <td></td>                <th>coef</th>     <th>std err</th>      <th>t</th>      <th>P>|t|</th>  <th>[0.025</th>    <th>0.975]</th>  \n",
       "</tr>\n",
       "<tr>\n",
       "  <th>const</th>                   <td>   27.3414</td> <td>    5.561</td> <td>    4.917</td> <td> 0.000</td> <td>   16.441</td> <td>   38.242</td>\n",
       "</tr>\n",
       "<tr>\n",
       "  <th>solar_radiation</th>         <td>   -0.8090</td> <td>    0.758</td> <td>   -1.067</td> <td> 0.286</td> <td>   -2.295</td> <td>    0.677</td>\n",
       "</tr>\n",
       "<tr>\n",
       "  <th>relative_humidity</th>       <td>   -0.1095</td> <td>    0.017</td> <td>   -6.518</td> <td> 0.000</td> <td>   -0.142</td> <td>   -0.077</td>\n",
       "</tr>\n",
       "<tr>\n",
       "  <th>cloud_amount</th>            <td>   -0.1854</td> <td>    0.031</td> <td>   -5.924</td> <td> 0.000</td> <td>   -0.247</td> <td>   -0.124</td>\n",
       "</tr>\n",
       "<tr>\n",
       "  <th>num_incentives</th>          <td>    0.1476</td> <td>    0.010</td> <td>   14.881</td> <td> 0.000</td> <td>    0.128</td> <td>    0.167</td>\n",
       "</tr>\n",
       "<tr>\n",
       "  <th>num_policies</th>            <td>   -0.2650</td> <td>    0.034</td> <td>   -7.883</td> <td> 0.000</td> <td>   -0.331</td> <td>   -0.199</td>\n",
       "</tr>\n",
       "<tr>\n",
       "  <th>median_household_income</th> <td> 5.511e-05</td> <td> 2.72e-06</td> <td>   20.228</td> <td> 0.000</td> <td> 4.98e-05</td> <td> 6.04e-05</td>\n",
       "</tr>\n",
       "</table>\n",
       "<table class=\"simpletable\">\n",
       "<tr>\n",
       "  <th>Omnibus:</th>       <td>832.631</td> <th>  Durbin-Watson:     </th> <td>   1.026</td> \n",
       "</tr>\n",
       "<tr>\n",
       "  <th>Prob(Omnibus):</th> <td> 0.000</td>  <th>  Jarque-Bera (JB):  </th> <td>1110.881</td> \n",
       "</tr>\n",
       "<tr>\n",
       "  <th>Skew:</th>          <td> 0.782</td>  <th>  Prob(JB):          </th> <td>5.96e-242</td>\n",
       "</tr>\n",
       "<tr>\n",
       "  <th>Kurtosis:</th>      <td> 3.731</td>  <th>  Cond. No.          </th> <td>5.66e+06</td> \n",
       "</tr>\n",
       "</table><br/><br/>Notes:<br/>[1] Standard Errors assume that the covariance matrix of the errors is correctly specified.<br/>[2] The condition number is large, 5.66e+06. This might indicate that there are<br/>strong multicollinearity or other numerical problems."
      ],
      "text/plain": [
       "<class 'statsmodels.iolib.summary.Summary'>\n",
       "\"\"\"\n",
       "                            OLS Regression Results                            \n",
       "==============================================================================\n",
       "Dep. Variable:          solar_density   R-squared:                       0.257\n",
       "Model:                            OLS   Adj. R-squared:                  0.256\n",
       "Method:                 Least Squares   F-statistic:                     514.6\n",
       "Date:                Thu, 15 Sep 2022   Prob (F-statistic):               0.00\n",
       "Time:                        13:48:14   Log-Likelihood:                -30624.\n",
       "No. Observations:                8951   AIC:                         6.126e+04\n",
       "Df Residuals:                    8944   BIC:                         6.131e+04\n",
       "Df Model:                           6                                         \n",
       "Covariance Type:            nonrobust                                         \n",
       "===========================================================================================\n",
       "                              coef    std err          t      P>|t|      [0.025      0.975]\n",
       "-------------------------------------------------------------------------------------------\n",
       "const                      27.3414      5.561      4.917      0.000      16.441      38.242\n",
       "solar_radiation            -0.8090      0.758     -1.067      0.286      -2.295       0.677\n",
       "relative_humidity          -0.1095      0.017     -6.518      0.000      -0.142      -0.077\n",
       "cloud_amount               -0.1854      0.031     -5.924      0.000      -0.247      -0.124\n",
       "num_incentives              0.1476      0.010     14.881      0.000       0.128       0.167\n",
       "num_policies               -0.2650      0.034     -7.883      0.000      -0.331      -0.199\n",
       "median_household_income  5.511e-05   2.72e-06     20.228      0.000    4.98e-05    6.04e-05\n",
       "==============================================================================\n",
       "Omnibus:                      832.631   Durbin-Watson:                   1.026\n",
       "Prob(Omnibus):                  0.000   Jarque-Bera (JB):             1110.881\n",
       "Skew:                           0.782   Prob(JB):                    5.96e-242\n",
       "Kurtosis:                       3.731   Cond. No.                     5.66e+06\n",
       "==============================================================================\n",
       "\n",
       "Notes:\n",
       "[1] Standard Errors assume that the covariance matrix of the errors is correctly specified.\n",
       "[2] The condition number is large, 5.66e+06. This might indicate that there are\n",
       "strong multicollinearity or other numerical problems.\n",
       "\"\"\""
      ]
     },
     "execution_count": 179,
     "metadata": {},
     "output_type": "execute_result"
    }
   ],
   "source": [
    "model1 = sm.OLS(np.sqrt(X2['solar_density']), sm.add_constant(X2.drop(columns='solar_density'))).fit()\n",
    "model1.summary()"
   ]
  },
  {
   "cell_type": "code",
   "execution_count": 174,
   "metadata": {},
   "outputs": [
    {
     "data": {
      "image/png": "[encoded data removed]",
      "text/plain": [
       "<Figure size 720x576 with 6 Axes>"
      ]
     },
     "metadata": {
      "needs_background": "light"
     },
     "output_type": "display_data"
    }
   ],
   "source": [
    "X.hist(figsize=(10,8));"
   ]
  },
  {
   "cell_type": "code",
   "execution_count": 175,
   "metadata": {},
   "outputs": [
    {
     "data": {
      "text/plain": [
       "<AxesSubplot:>"
      ]
     },
     "execution_count": 175,
     "metadata": {},
     "output_type": "execute_result"
    },
    {
     "data": {
      "image/png": "[encoded data removed]",
      "text/plain": [
       "<Figure size 432x288 with 1 Axes>"
      ]
     },
     "metadata": {
      "needs_background": "light"
     },
     "output_type": "display_data"
    }
   ],
   "source": [
    "np.power(y, 1/3).hist()"
   ]
  },
  {
   "cell_type": "code",
   "execution_count": null,
   "metadata": {},
   "outputs": [],
   "source": []
  },
  {
   "cell_type": "code",
   "execution_count": 176,
   "metadata": {},
   "outputs": [],
   "source": [
    "from sklearn.cluster import KMeans, AgglomerativeClustering"
   ]
  },
  {
   "cell_type": "code",
   "execution_count": 177,
   "metadata": {},
   "outputs": [
    {
     "name": "stderr",
     "output_type": "stream",
     "text": [
      "<ipython-input-177-21d70153a12d>:1: SettingWithCopyWarning: \n",
      "A value is trying to be set on a copy of a slice from a DataFrame.\n",
      "Try using .loc[row_indexer,col_indexer] = value instead\n",
      "\n",
      "See the caveats in the documentation: https://pandas.pydata.org/pandas-docs/stable/user_guide/indexing.html#returning-a-view-versus-a-copy\n",
      "  X['solar_density'] = y\n"
     ]
    }
   ],
   "source": [
    "X['solar_density'] = y"
   ]
  },
  {
   "cell_type": "code",
   "execution_count": 178,
   "metadata": {},
   "outputs": [],
   "source": [
    "X2 = X.loc[X['median_household_income']>=0]"
   ]
  },
  {
   "cell_type": "code",
   "execution_count": null,
   "metadata": {},
   "outputs": [],
   "source": []
  },
  {
   "cell_type": "code",
   "execution_count": 180,
   "metadata": {},
   "outputs": [],
   "source": [
    "inertias = []\n",
    "\n",
    "for k in range(2, 10):\n",
    "\n",
    "    mod = KMeans(n_clusters=k)\n",
    "    mod.fit(X2)\n",
    "    inertias.append(mod.inertia_)"
   ]
  },
  {
   "cell_type": "code",
   "execution_count": 181,
   "metadata": {},
   "outputs": [
    {
     "data": {
      "text/plain": [
       "[<matplotlib.lines.Line2D at 0x7f99a880f3a0>]"
      ]
     },
     "execution_count": 181,
     "metadata": {},
     "output_type": "execute_result"
    },
    {
     "data": {
      "image/png": "[encoded data removed]",
      "text/plain": [
       "<Figure size 720x432 with 1 Axes>"
      ]
     },
     "metadata": {
      "needs_background": "light"
     },
     "output_type": "display_data"
    }
   ],
   "source": [
    "fig, ax = plt.subplots(figsize=(10,6))\n",
    "ax.plot(range(2,10), inertias)"
   ]
  },
  {
   "cell_type": "code",
   "execution_count": 182,
   "metadata": {},
   "outputs": [],
   "source": [
    "mod = KMeans(n_clusters=3)"
   ]
  },
  {
   "cell_type": "code",
   "execution_count": 183,
   "metadata": {},
   "outputs": [
    {
     "data": {
      "text/plain": [
       "KMeans(n_clusters=3)"
      ]
     },
     "execution_count": 183,
     "metadata": {},
     "output_type": "execute_result"
    }
   ],
   "source": [
    "mod.fit(X2)"
   ]
  },
  {
   "cell_type": "code",
   "execution_count": 184,
   "metadata": {},
   "outputs": [
    {
     "data": {
      "text/html": [
       "<div>\n",
       "<style scoped>\n",
       "    .dataframe tbody tr th:only-of-type {\n",
       "        vertical-align: middle;\n",
       "    }\n",
       "\n",
       "    .dataframe tbody tr th {\n",
       "        vertical-align: top;\n",
       "    }\n",
       "\n",
       "    .dataframe thead th {\n",
       "        text-align: right;\n",
       "    }\n",
       "</style>\n",
       "<table border=\"1\" class=\"dataframe\">\n",
       "  <thead>\n",
       "    <tr style=\"text-align: right;\">\n",
       "      <th></th>\n",
       "      <th>solar_radiation</th>\n",
       "      <th>relative_humidity</th>\n",
       "      <th>cloud_amount</th>\n",
       "      <th>num_incentives</th>\n",
       "      <th>num_policies</th>\n",
       "      <th>median_household_income</th>\n",
       "      <th>solar_density</th>\n",
       "    </tr>\n",
       "  </thead>\n",
       "  <tbody>\n",
       "    <tr>\n",
       "      <th>0</th>\n",
       "      <td>4.226629</td>\n",
       "      <td>72.607217</td>\n",
       "      <td>56.623394</td>\n",
       "      <td>27.184490</td>\n",
       "      <td>11.157416</td>\n",
       "      <td>53263.114291</td>\n",
       "      <td>146.776560</td>\n",
       "    </tr>\n",
       "    <tr>\n",
       "      <th>1</th>\n",
       "      <td>4.172021</td>\n",
       "      <td>75.507354</td>\n",
       "      <td>56.326163</td>\n",
       "      <td>28.684022</td>\n",
       "      <td>10.677514</td>\n",
       "      <td>88420.647250</td>\n",
       "      <td>236.738505</td>\n",
       "    </tr>\n",
       "    <tr>\n",
       "      <th>2</th>\n",
       "      <td>4.221853</td>\n",
       "      <td>77.075403</td>\n",
       "      <td>54.136252</td>\n",
       "      <td>32.435644</td>\n",
       "      <td>11.486563</td>\n",
       "      <td>147562.347949</td>\n",
       "      <td>264.423385</td>\n",
       "    </tr>\n",
       "  </tbody>\n",
       "</table>\n",
       "</div>"
      ],
      "text/plain": [
       "   solar_radiation  relative_humidity  cloud_amount  num_incentives  \\\n",
       "0         4.226629          72.607217     56.623394       27.184490   \n",
       "1         4.172021          75.507354     56.326163       28.684022   \n",
       "2         4.221853          77.075403     54.136252       32.435644   \n",
       "\n",
       "   num_policies  median_household_income  solar_density  \n",
       "0     11.157416             53263.114291     146.776560  \n",
       "1     10.677514             88420.647250     236.738505  \n",
       "2     11.486563            147562.347949     264.423385  "
      ]
     },
     "execution_count": 184,
     "metadata": {},
     "output_type": "execute_result"
    }
   ],
   "source": [
    "pd.DataFrame(mod.cluster_centers_, columns=X2.columns)"
   ]
  },
  {
   "cell_type": "code",
   "execution_count": null,
   "metadata": {},
   "outputs": [],
   "source": []
  }
 ],
 "metadata": {
  "interpreter": {
   "hash": "d56d6a5f2a8699d85bc719e5bd2733ecb51afd7fb00a7b715cfb04c2ba992f8a"
  },
  "kernelspec": {
   "display_name": "Python 3.9.5 ('solar-analysis')",
   "language": "python",
   "name": "python3"
  },
  "language_info": {
   "codemirror_mode": {
    "name": "ipython",
    "version": 3
   },
   "file_extension": ".py",
   "mimetype": "text/x-python",
   "name": "python",
   "nbconvert_exporter": "python",
   "pygments_lexer": "ipython3",
   "version": "3.9.5"
  },
  "orig_nbformat": 4
 },
 "nbformat": 4,
 "nbformat_minor": 2
}
